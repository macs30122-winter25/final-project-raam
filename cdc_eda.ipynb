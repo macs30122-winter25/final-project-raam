{
 "cells": [
  {
   "cell_type": "code",
   "execution_count": null,
   "metadata": {},
   "outputs": [],
   "source": [
    "# CDC EDA\n",
    "# Anita Sun"
   ]
  },
  {
   "cell_type": "code",
   "execution_count": 2,
   "metadata": {},
   "outputs": [],
   "source": [
    "import numpy as np\n",
    "import pandas as pd\n",
    "import seaborn as sns\n",
    "import matplotlib.pyplot as plt"
   ]
  },
  {
   "cell_type": "code",
   "execution_count": 3,
   "metadata": {},
   "outputs": [],
   "source": [
    "df = pd.read_csv('Indicators_of_Anxiety_or_Depression_Based_on_Reported_Frequency_of_Symptoms_During_Last_7_Days.csv')"
   ]
  },
  {
   "cell_type": "code",
   "execution_count": 5,
   "metadata": {},
   "outputs": [
    {
     "data": {
      "text/plain": [
       "(16794, 14)"
      ]
     },
     "execution_count": 5,
     "metadata": {},
     "output_type": "execute_result"
    }
   ],
   "source": [
    "df.shape"
   ]
  },
  {
   "cell_type": "code",
   "execution_count": 6,
   "metadata": {},
   "outputs": [
    {
     "data": {
      "text/html": [
       "<div>\n",
       "<style scoped>\n",
       "    .dataframe tbody tr th:only-of-type {\n",
       "        vertical-align: middle;\n",
       "    }\n",
       "\n",
       "    .dataframe tbody tr th {\n",
       "        vertical-align: top;\n",
       "    }\n",
       "\n",
       "    .dataframe thead th {\n",
       "        text-align: right;\n",
       "    }\n",
       "</style>\n",
       "<table border=\"1\" class=\"dataframe\">\n",
       "  <thead>\n",
       "    <tr style=\"text-align: right;\">\n",
       "      <th></th>\n",
       "      <th>Indicator</th>\n",
       "      <th>Group</th>\n",
       "      <th>State</th>\n",
       "      <th>Subgroup</th>\n",
       "      <th>Phase</th>\n",
       "      <th>Time Period</th>\n",
       "      <th>Time Period Label</th>\n",
       "      <th>Time Period Start Date</th>\n",
       "      <th>Time Period End Date</th>\n",
       "      <th>Value</th>\n",
       "      <th>Low CI</th>\n",
       "      <th>High CI</th>\n",
       "      <th>Confidence Interval</th>\n",
       "      <th>Quartile Range</th>\n",
       "    </tr>\n",
       "  </thead>\n",
       "  <tbody>\n",
       "    <tr>\n",
       "      <th>0</th>\n",
       "      <td>Symptoms of Depressive Disorder</td>\n",
       "      <td>National Estimate</td>\n",
       "      <td>United States</td>\n",
       "      <td>United States</td>\n",
       "      <td>1</td>\n",
       "      <td>1</td>\n",
       "      <td>Apr 23 - May 5, 2020</td>\n",
       "      <td>04/23/2020</td>\n",
       "      <td>05/05/2020</td>\n",
       "      <td>23.5</td>\n",
       "      <td>22.7</td>\n",
       "      <td>24.3</td>\n",
       "      <td>22.7 - 24.3</td>\n",
       "      <td>NaN</td>\n",
       "    </tr>\n",
       "    <tr>\n",
       "      <th>1</th>\n",
       "      <td>Symptoms of Depressive Disorder</td>\n",
       "      <td>By Age</td>\n",
       "      <td>United States</td>\n",
       "      <td>18 - 29 years</td>\n",
       "      <td>1</td>\n",
       "      <td>1</td>\n",
       "      <td>Apr 23 - May 5, 2020</td>\n",
       "      <td>04/23/2020</td>\n",
       "      <td>05/05/2020</td>\n",
       "      <td>32.7</td>\n",
       "      <td>30.2</td>\n",
       "      <td>35.2</td>\n",
       "      <td>30.2 - 35.2</td>\n",
       "      <td>NaN</td>\n",
       "    </tr>\n",
       "    <tr>\n",
       "      <th>2</th>\n",
       "      <td>Symptoms of Depressive Disorder</td>\n",
       "      <td>By Age</td>\n",
       "      <td>United States</td>\n",
       "      <td>30 - 39 years</td>\n",
       "      <td>1</td>\n",
       "      <td>1</td>\n",
       "      <td>Apr 23 - May 5, 2020</td>\n",
       "      <td>04/23/2020</td>\n",
       "      <td>05/05/2020</td>\n",
       "      <td>25.7</td>\n",
       "      <td>24.1</td>\n",
       "      <td>27.3</td>\n",
       "      <td>24.1 - 27.3</td>\n",
       "      <td>NaN</td>\n",
       "    </tr>\n",
       "    <tr>\n",
       "      <th>3</th>\n",
       "      <td>Symptoms of Depressive Disorder</td>\n",
       "      <td>By Age</td>\n",
       "      <td>United States</td>\n",
       "      <td>40 - 49 years</td>\n",
       "      <td>1</td>\n",
       "      <td>1</td>\n",
       "      <td>Apr 23 - May 5, 2020</td>\n",
       "      <td>04/23/2020</td>\n",
       "      <td>05/05/2020</td>\n",
       "      <td>24.8</td>\n",
       "      <td>23.3</td>\n",
       "      <td>26.2</td>\n",
       "      <td>23.3 - 26.2</td>\n",
       "      <td>NaN</td>\n",
       "    </tr>\n",
       "    <tr>\n",
       "      <th>4</th>\n",
       "      <td>Symptoms of Depressive Disorder</td>\n",
       "      <td>By Age</td>\n",
       "      <td>United States</td>\n",
       "      <td>50 - 59 years</td>\n",
       "      <td>1</td>\n",
       "      <td>1</td>\n",
       "      <td>Apr 23 - May 5, 2020</td>\n",
       "      <td>04/23/2020</td>\n",
       "      <td>05/05/2020</td>\n",
       "      <td>23.2</td>\n",
       "      <td>21.5</td>\n",
       "      <td>25.0</td>\n",
       "      <td>21.5 - 25.0</td>\n",
       "      <td>NaN</td>\n",
       "    </tr>\n",
       "  </tbody>\n",
       "</table>\n",
       "</div>"
      ],
      "text/plain": [
       "                         Indicator              Group          State  \\\n",
       "0  Symptoms of Depressive Disorder  National Estimate  United States   \n",
       "1  Symptoms of Depressive Disorder             By Age  United States   \n",
       "2  Symptoms of Depressive Disorder             By Age  United States   \n",
       "3  Symptoms of Depressive Disorder             By Age  United States   \n",
       "4  Symptoms of Depressive Disorder             By Age  United States   \n",
       "\n",
       "        Subgroup Phase  Time Period     Time Period Label  \\\n",
       "0  United States     1            1  Apr 23 - May 5, 2020   \n",
       "1  18 - 29 years     1            1  Apr 23 - May 5, 2020   \n",
       "2  30 - 39 years     1            1  Apr 23 - May 5, 2020   \n",
       "3  40 - 49 years     1            1  Apr 23 - May 5, 2020   \n",
       "4  50 - 59 years     1            1  Apr 23 - May 5, 2020   \n",
       "\n",
       "  Time Period Start Date Time Period End Date  Value  Low CI  High CI  \\\n",
       "0             04/23/2020           05/05/2020   23.5    22.7     24.3   \n",
       "1             04/23/2020           05/05/2020   32.7    30.2     35.2   \n",
       "2             04/23/2020           05/05/2020   25.7    24.1     27.3   \n",
       "3             04/23/2020           05/05/2020   24.8    23.3     26.2   \n",
       "4             04/23/2020           05/05/2020   23.2    21.5     25.0   \n",
       "\n",
       "  Confidence Interval Quartile Range  \n",
       "0         22.7 - 24.3            NaN  \n",
       "1         30.2 - 35.2            NaN  \n",
       "2         24.1 - 27.3            NaN  \n",
       "3         23.3 - 26.2            NaN  \n",
       "4         21.5 - 25.0            NaN  "
      ]
     },
     "execution_count": 6,
     "metadata": {},
     "output_type": "execute_result"
    }
   ],
   "source": [
    "df.head()"
   ]
  },
  {
   "cell_type": "code",
   "execution_count": 8,
   "metadata": {},
   "outputs": [
    {
     "data": {
      "text/plain": [
       "Symptoms of Depressive Disorder                        5598\n",
       "Symptoms of Anxiety Disorder                           5598\n",
       "Symptoms of Anxiety Disorder or Depressive Disorder    5598\n",
       "Name: Indicator, dtype: int64"
      ]
     },
     "execution_count": 8,
     "metadata": {},
     "output_type": "execute_result"
    }
   ],
   "source": [
    "df['Indicator'].value_counts()"
   ]
  },
  {
   "cell_type": "code",
   "execution_count": 9,
   "metadata": {},
   "outputs": [],
   "source": [
    "df_anxiety = df[df['Indicator']=='Symptoms of Anxiety Disorder']"
   ]
  },
  {
   "cell_type": "code",
   "execution_count": 22,
   "metadata": {},
   "outputs": [
    {
     "name": "stderr",
     "output_type": "stream",
     "text": [
      "/tmp/ipykernel_266796/1079752585.py:1: SettingWithCopyWarning: \n",
      "A value is trying to be set on a copy of a slice from a DataFrame.\n",
      "Try using .loc[row_indexer,col_indexer] = value instead\n",
      "\n",
      "See the caveats in the documentation: https://pandas.pydata.org/pandas-docs/stable/user_guide/indexing.html#returning-a-view-versus-a-copy\n",
      "  df_anxiety['CI'] = df_anxiety.apply(lambda x:\n"
     ]
    }
   ],
   "source": [
    "df_anxiety['CI'] = df_anxiety.apply(lambda x:\n",
    "                    (x['Low CI'], x['High CI']),\n",
    "                    axis = 1)"
   ]
  },
  {
   "cell_type": "code",
   "execution_count": 13,
   "metadata": {},
   "outputs": [
    {
     "data": {
      "text/plain": [
       "array(['United States', '18 - 29 years', '30 - 39 years', '40 - 49 years',\n",
       "       '50 - 59 years', '60 - 69 years', '70 - 79 years',\n",
       "       '80 years and above', 'Male', 'Female', 'Hispanic or Latino',\n",
       "       'Non-Hispanic White, single race',\n",
       "       'Non-Hispanic Black, single race',\n",
       "       'Non-Hispanic Asian, single race',\n",
       "       'Non-Hispanic, other races and multiple races',\n",
       "       'Less than a high school diploma', 'High school diploma or GED',\n",
       "       \"Some college/Associate's degree\", \"Bachelor's degree or higher\",\n",
       "       'Alabama', 'Alaska', 'Arizona', 'Arkansas', 'California',\n",
       "       'Colorado', 'Connecticut', 'Delaware', 'District of Columbia',\n",
       "       'Florida', 'Georgia', 'Hawaii', 'Idaho', 'Illinois', 'Indiana',\n",
       "       'Iowa', 'Kansas', 'Kentucky', 'Louisiana', 'Maine', 'Maryland',\n",
       "       'Massachusetts', 'Michigan', 'Minnesota', 'Mississippi',\n",
       "       'Missouri', 'Montana', 'Nebraska', 'Nevada', 'New Hampshire',\n",
       "       'New Jersey', 'New Mexico', 'New York', 'North Carolina',\n",
       "       'North Dakota', 'Ohio', 'Oklahoma', 'Oregon', 'Pennsylvania',\n",
       "       'Rhode Island', 'South Carolina', 'South Dakota', 'Tennessee',\n",
       "       'Texas', 'Utah', 'Vermont', 'Virginia', 'Washington',\n",
       "       'West Virginia', 'Wisconsin', 'Wyoming', 'With disability',\n",
       "       'Without disability', 'Cis-gender male', 'Cis-gender female',\n",
       "       'Transgender', 'Gay or lesbian', 'Straight', 'Bisexual'],\n",
       "      dtype=object)"
      ]
     },
     "execution_count": 13,
     "metadata": {},
     "output_type": "execute_result"
    }
   ],
   "source": [
    "df_anxiety['Subgroup'].unique()"
   ]
  },
  {
   "cell_type": "code",
   "execution_count": 14,
   "metadata": {},
   "outputs": [
    {
     "data": {
      "text/plain": [
       "array([ 1,  2,  3,  4,  5,  6,  7,  8,  9, 10, 11, 12, 13, 14, 15, 16, 17,\n",
       "       18, 19, 20, 21, 22, 23, 24, 25, 26, 27, 28, 29, 30, 31, 32, 33, 34,\n",
       "       35, 36, 37, 38, 39, 40, 41, 42, 43, 44, 45, 46, 47, 48, 49, 50, 51,\n",
       "       52, 53, 54, 55, 56, 57, 58, 59, 60, 61, 62, 63, 64, 65, 66, 67, 68,\n",
       "       69, 70, 71, 72])"
      ]
     },
     "execution_count": 14,
     "metadata": {},
     "output_type": "execute_result"
    }
   ],
   "source": [
    "df_anxiety['Time Period'].unique()"
   ]
  },
  {
   "cell_type": "code",
   "execution_count": 55,
   "metadata": {},
   "outputs": [
    {
     "name": "stderr",
     "output_type": "stream",
     "text": [
      "/tmp/ipykernel_266796/1231845952.py:1: SettingWithCopyWarning: \n",
      "A value is trying to be set on a copy of a slice from a DataFrame.\n",
      "Try using .loc[row_indexer,col_indexer] = value instead\n",
      "\n",
      "See the caveats in the documentation: https://pandas.pydata.org/pandas-docs/stable/user_guide/indexing.html#returning-a-view-versus-a-copy\n",
      "  df_anxiety['Time Period Start Date'] = pd.to_datetime(df_anxiety['Time Period Start Date'])\n",
      "/tmp/ipykernel_266796/1231845952.py:2: SettingWithCopyWarning: \n",
      "A value is trying to be set on a copy of a slice from a DataFrame.\n",
      "Try using .loc[row_indexer,col_indexer] = value instead\n",
      "\n",
      "See the caveats in the documentation: https://pandas.pydata.org/pandas-docs/stable/user_guide/indexing.html#returning-a-view-versus-a-copy\n",
      "  df_anxiety['Time Period End Date'] = pd.to_datetime(df_anxiety['Time Period End Date'])\n"
     ]
    }
   ],
   "source": [
    "df_anxiety['Time Period Start Date'] = pd.to_datetime(df_anxiety['Time Period Start Date'])\n",
    "df_anxiety['Time Period End Date'] = pd.to_datetime(df_anxiety['Time Period End Date'])"
   ]
  },
  {
   "cell_type": "code",
   "execution_count": 56,
   "metadata": {},
   "outputs": [
    {
     "data": {
      "text/plain": [
       "array(['2020-05-05T00:00:00.000000000', '2020-05-12T00:00:00.000000000',\n",
       "       '2020-05-19T00:00:00.000000000', '2020-05-26T00:00:00.000000000',\n",
       "       '2020-06-02T00:00:00.000000000', '2020-06-09T00:00:00.000000000',\n",
       "       '2020-06-16T00:00:00.000000000', '2020-06-23T00:00:00.000000000',\n",
       "       '2020-06-30T00:00:00.000000000', '2020-07-07T00:00:00.000000000',\n",
       "       '2020-07-14T00:00:00.000000000', '2020-07-21T00:00:00.000000000',\n",
       "       '2020-08-18T00:00:00.000000000', '2020-08-31T00:00:00.000000000',\n",
       "       '2020-09-14T00:00:00.000000000', '2020-09-28T00:00:00.000000000',\n",
       "       '2020-10-12T00:00:00.000000000', '2020-10-26T00:00:00.000000000',\n",
       "       '2020-11-09T00:00:00.000000000', '2020-11-23T00:00:00.000000000',\n",
       "       '2020-12-07T00:00:00.000000000', '2020-12-21T00:00:00.000000000',\n",
       "       '2021-01-05T00:00:00.000000000', '2021-01-18T00:00:00.000000000',\n",
       "       '2021-02-01T00:00:00.000000000', '2021-02-15T00:00:00.000000000',\n",
       "       '2021-03-01T00:00:00.000000000', '2021-03-15T00:00:00.000000000',\n",
       "       '2021-03-29T00:00:00.000000000', '2021-04-13T00:00:00.000000000',\n",
       "       '2021-04-26T00:00:00.000000000', '2021-05-10T00:00:00.000000000',\n",
       "       '2021-05-24T00:00:00.000000000', '2021-06-07T00:00:00.000000000',\n",
       "       '2021-06-21T00:00:00.000000000', '2021-07-05T00:00:00.000000000',\n",
       "       '2021-07-20T00:00:00.000000000', '2021-08-02T00:00:00.000000000',\n",
       "       '2021-08-16T00:00:00.000000000', '2021-08-30T00:00:00.000000000',\n",
       "       '2021-09-13T00:00:00.000000000', '2021-09-27T00:00:00.000000000',\n",
       "       '2021-10-11T00:00:00.000000000', '2021-11-30T00:00:00.000000000',\n",
       "       '2021-12-13T00:00:00.000000000', '2022-01-10T00:00:00.000000000',\n",
       "       '2022-02-07T00:00:00.000000000', '2022-03-01T00:00:00.000000000',\n",
       "       '2022-03-14T00:00:00.000000000', '2022-04-11T00:00:00.000000000',\n",
       "       '2022-05-09T00:00:00.000000000', '2022-05-31T00:00:00.000000000',\n",
       "       '2022-06-13T00:00:00.000000000', '2022-07-11T00:00:00.000000000',\n",
       "       '2022-08-08T00:00:00.000000000', '2022-09-13T00:00:00.000000000',\n",
       "       '2022-09-26T00:00:00.000000000', '2022-10-17T00:00:00.000000000',\n",
       "       '2022-11-14T00:00:00.000000000', '2022-12-08T00:00:00.000000000',\n",
       "       '2022-12-19T00:00:00.000000000', '2023-01-16T00:00:00.000000000',\n",
       "       '2023-02-13T00:00:00.000000000', '2023-03-13T00:00:00.000000000',\n",
       "       '2023-04-10T00:00:00.000000000', '2023-05-08T00:00:00.000000000',\n",
       "       '2023-06-19T00:00:00.000000000', '2023-07-10T00:00:00.000000000',\n",
       "       '2023-08-07T00:00:00.000000000', '2023-09-04T00:00:00.000000000',\n",
       "       '2023-10-02T00:00:00.000000000', '2023-10-30T00:00:00.000000000',\n",
       "       '2024-01-08T00:00:00.000000000', '2024-02-05T00:00:00.000000000',\n",
       "       '2024-03-04T00:00:00.000000000', '2024-04-01T00:00:00.000000000',\n",
       "       '2024-04-29T00:00:00.000000000', '2024-05-27T00:00:00.000000000',\n",
       "       '2024-06-24T00:00:00.000000000', '2024-07-22T00:00:00.000000000',\n",
       "       '2024-08-19T00:00:00.000000000', '2024-09-16T00:00:00.000000000'],\n",
       "      dtype='datetime64[ns]')"
      ]
     },
     "execution_count": 56,
     "metadata": {},
     "output_type": "execute_result"
    }
   ],
   "source": [
    "df_anxiety['Time Period End Date'].unique()"
   ]
  },
  {
   "cell_type": "code",
   "execution_count": 57,
   "metadata": {},
   "outputs": [
    {
     "name": "stderr",
     "output_type": "stream",
     "text": [
      "/tmp/ipykernel_266796/2723034777.py:1: SettingWithCopyWarning: \n",
      "A value is trying to be set on a copy of a slice from a DataFrame.\n",
      "Try using .loc[row_indexer,col_indexer] = value instead\n",
      "\n",
      "See the caveats in the documentation: https://pandas.pydata.org/pandas-docs/stable/user_guide/indexing.html#returning-a-view-versus-a-copy\n",
      "  df_anxiety['val_err_lower'] = df_anxiety['Value'] - df_anxiety['Low CI']\n",
      "/tmp/ipykernel_266796/2723034777.py:2: SettingWithCopyWarning: \n",
      "A value is trying to be set on a copy of a slice from a DataFrame.\n",
      "Try using .loc[row_indexer,col_indexer] = value instead\n",
      "\n",
      "See the caveats in the documentation: https://pandas.pydata.org/pandas-docs/stable/user_guide/indexing.html#returning-a-view-versus-a-copy\n",
      "  df_anxiety['val_err_upper'] = df_anxiety['High CI'] - df_anxiety['Value']\n"
     ]
    }
   ],
   "source": [
    "df_anxiety['val_err_lower'] = df_anxiety['Value'] - df_anxiety['Low CI']\n",
    "df_anxiety['val_err_upper'] = df_anxiety['High CI'] - df_anxiety['Value']"
   ]
  },
  {
   "cell_type": "code",
   "execution_count": 58,
   "metadata": {},
   "outputs": [],
   "source": [
    "df_anxiety_us = df_anxiety[df_anxiety['Subgroup']=='United States']"
   ]
  },
  {
   "cell_type": "code",
   "execution_count": 84,
   "metadata": {},
   "outputs": [
    {
     "data": {
      "image/png": "[encoded data removed]",
      "text/plain": [
       "<Figure size 640x480 with 1 Axes>"
      ]
     },
     "metadata": {},
     "output_type": "display_data"
    }
   ],
   "source": [
    "sns.lineplot(data=df_anxiety_us,\n",
    "             x='Time Period End Date',\n",
    "             y='Value',\n",
    ")\n",
    "\n",
    "plt.fill_between(df_anxiety_us['Time Period End Date'], df_anxiety_us['Low CI'], df_anxiety_us['High CI'], color='green', alpha=0.2)\n",
    "\n",
    "'''\n",
    "plt.errorbar(df_anxiety[df_anxiety['Subgroup']=='United States']['Time Period'], \n",
    "             df_anxiety[df_anxiety['Subgroup']=='United States']['Value'], \n",
    "             yerr=[df_anxiety[df_anxiety['Subgroup']=='United States']['val_err_lower'], df_anxiety[df_anxiety['Subgroup']=='United States']['val_err_upper']], \n",
    "             fmt='none', capsize=5, capthick=1, color='black')'''\n",
    "\n",
    "plt.title('CDC Indicators of Anxiety Based on Frequency of Symptoms - Apr 2020 to Sept 2024')\n",
    "plt.ylabel('Percentage of US Adults')\n",
    "\n",
    "step = 20\n",
    "\n",
    "plt.xticks(df_anxiety_us['Time Period End Date'][::step],\n",
    "           df_anxiety_us['Time Period End Date'][::step].apply(lambda x: (str(x.month) + \"/\" + str(x.day) + \"/\" +  str(x.year))),\n",
    "           fontsize='8');"
   ]
  },
  {
   "cell_type": "code",
   "execution_count": 82,
   "metadata": {},
   "outputs": [],
   "source": [
    "dict_max = {i:(np.max(df_anxiety[df_anxiety['Subgroup']==i]['Value']), \n",
    "                 df_anxiety[df_anxiety['Subgroup']==i].loc[df_anxiety[df_anxiety['Subgroup']==i]['Value'].idxmax(), 'Time Period Label']) \n",
    "                 for i in df_anxiety['Subgroup'].unique()}"
   ]
  },
  {
   "cell_type": "code",
   "execution_count": 83,
   "metadata": {},
   "outputs": [
    {
     "data": {
      "text/plain": [
       "{'United States': (37.2, 'Nov 11 - Nov 23, 2020'),\n",
       " '18 - 29 years': (51.7, 'Oct 28 - Nov 9, 2020'),\n",
       " '30 - 39 years': (44.3, 'Dec 9 - Dec 21, 2020'),\n",
       " '40 - 49 years': (41.0, 'Nov 11 - Nov 23, 2020'),\n",
       " '50 - 59 years': (36.3, 'Jan 20 - Feb 1, 2021'),\n",
       " '60 - 69 years': (30.2, 'Nov 11 - Nov 23, 2020'),\n",
       " '70 - 79 years': (24.2, 'Nov 11 - Nov 23, 2020'),\n",
       " '80 years and above': (22.5, 'Dec 9 - Dec 21, 2020'),\n",
       " 'Male': (32.4, 'Jan 20 - Feb 1, 2021'),\n",
       " 'Female': (42.9, 'Nov 11 - Nov 23, 2020'),\n",
       " 'Hispanic or Latino': (42.2, 'Nov 11 - Nov 23, 2020'),\n",
       " 'Non-Hispanic White, single race': (36.2, 'Nov 11 - Nov 23, 2020'),\n",
       " 'Non-Hispanic Black, single race': (41.1, 'Dec 9 - Dec 21, 2020'),\n",
       " 'Non-Hispanic Asian, single race': (35.0, 'July 16 - July 21, 2020'),\n",
       " 'Non-Hispanic, other races and multiple races': (47.1,\n",
       "  'Nov 11 - Nov 23, 2020'),\n",
       " 'Less than a high school diploma': (46.9, 'Nov 25 - Dec 7, 2020'),\n",
       " 'High school diploma or GED': (38.1, 'Dec 9 - Dec 21, 2020'),\n",
       " \"Some college/Associate's degree\": (40.7, 'Jan 20 - Feb 1, 2021'),\n",
       " \"Bachelor's degree or higher\": (34.5, 'Oct 28 - Nov 9, 2020'),\n",
       " 'Alabama': (40.1, 'Nov 11 - Nov 23, 2020'),\n",
       " 'Alaska': (40.3, 'Nov 11 - Nov 23, 2020'),\n",
       " 'Arizona': (41.3, 'July 16 - July 21, 2020'),\n",
       " 'Arkansas': (40.0, 'July 9 - July 14, 2020'),\n",
       " 'California': (39.9, 'Jan 6 - Jan 18, 2021'),\n",
       " 'Colorado': (42.2, 'Nov 11 - Nov 23, 2020'),\n",
       " 'Connecticut': (38.2, 'Oct 28 - Nov 9, 2020'),\n",
       " 'Delaware': (37.7, 'Oct 28 - Nov 9, 2020'),\n",
       " 'District of Columbia': (45.6, 'Oct 28 - Nov 9, 2020'),\n",
       " 'Florida': (39.0, 'July 9 - July 14, 2020'),\n",
       " 'Georgia': (40.3, 'Dec 9 - Dec 21, 2020'),\n",
       " 'Hawaii': (37.2, 'July 16 - July 21, 2020'),\n",
       " 'Idaho': (37.9, 'Dec 9 - Dec 21, 2020'),\n",
       " 'Illinois': (38.0, 'July 16 - July 21, 2020'),\n",
       " 'Indiana': (37.7, 'Nov 25 - Dec 7, 2020'),\n",
       " 'Iowa': (41.0, 'Oct 28 - Nov 9, 2020'),\n",
       " 'Kansas': (40.4, 'Oct 28 - Nov 9, 2020'),\n",
       " 'Kentucky': (40.2, 'Nov 25 - Dec 7, 2020'),\n",
       " 'Louisiana': (45.5, 'Dec 9 - Dec 21, 2020'),\n",
       " 'Maine': (40.5, 'Oct 28 - Nov 9, 2020'),\n",
       " 'Maryland': (36.1, 'Nov 11 - Nov 23, 2020'),\n",
       " 'Massachusetts': (37.6, 'Oct 28 - Nov 9, 2020'),\n",
       " 'Michigan': (40.7, 'Dec 9 - Dec 21, 2020'),\n",
       " 'Minnesota': (37.5, 'Nov 11 - Nov 23, 2020'),\n",
       " 'Mississippi': (49.2, 'Jan 6 - Jan 18, 2021'),\n",
       " 'Missouri': (37.8, 'May 7 - May 12, 2020'),\n",
       " 'Montana': (39.9, 'Nov 11 - Nov 23, 2020'),\n",
       " 'Nebraska': (35.0, 'Nov 25 - Dec 7, 2020'),\n",
       " 'Nevada': (43.7, 'July 16 - July 21, 2020'),\n",
       " 'New Hampshire': (37.3, 'Nov 25 - Dec 7, 2020'),\n",
       " 'New Jersey': (37.1, 'July 9 - July 14, 2020'),\n",
       " 'New Mexico': (44.7, 'July 16 - July 21, 2020'),\n",
       " 'New York': (36.6, 'Nov 11 - Nov 23, 2020'),\n",
       " 'North Carolina': (39.2, 'Jan 20 - Feb 1, 2021'),\n",
       " 'North Dakota': (33.8, 'Nov 2 - Nov 14, 2022'),\n",
       " 'Ohio': (38.1, 'Nov 11 - Nov 23, 2020'),\n",
       " 'Oklahoma': (44.2, 'Dec 9 - Dec 21, 2020'),\n",
       " 'Oregon': (45.4, 'July 16 - July 21, 2020'),\n",
       " 'Pennsylvania': (38.1, 'Nov 25 - Dec 7, 2020'),\n",
       " 'Rhode Island': (41.8, 'July 16 - July 21, 2020'),\n",
       " 'South Carolina': (37.3, 'Oct 28 - Nov 9, 2020'),\n",
       " 'South Dakota': (34.7, 'Nov 11 - Nov 23, 2020'),\n",
       " 'Tennessee': (40.1, 'July 16 - July 21, 2020'),\n",
       " 'Texas': (42.3, 'Nov 11 - Nov 23, 2020'),\n",
       " 'Utah': (38.5, 'Jan 6 - Jan 18, 2021'),\n",
       " 'Vermont': (38.0, 'Dec 9 - Dec 21, 2020'),\n",
       " 'Virginia': (37.1, 'Jan 6 - Jan 18, 2021'),\n",
       " 'Washington': (41.0, 'Jan 20 - Feb 1, 2021'),\n",
       " 'West Virginia': (41.6, 'Jan 6 - Jan 18, 2021'),\n",
       " 'Wisconsin': (36.0, 'Oct 28 - Nov 9, 2020'),\n",
       " 'Wyoming': (38.8, 'July 16 - July 21, 2020'),\n",
       " 'With disability': (58.8, 'Sep 14 - Sep 26, 2022'),\n",
       " 'Without disability': (25.9, 'Sep 14 - Sep 26, 2022'),\n",
       " 'Cis-gender male': (27.8, 'Sep 14 - Sep 26, 2022'),\n",
       " 'Cis-gender female': (34.4, 'Sep 14 - Sep 26, 2022'),\n",
       " 'Transgender': (78.1, 'Nov 2 - Nov 14, 2022'),\n",
       " 'Gay or lesbian': (47.3, 'Nov 2 - Nov 14, 2022'),\n",
       " 'Straight': (29.2, 'Sep 14 - Sep 26, 2022'),\n",
       " 'Bisexual': (59.0, 'Sep 15 - Sep 27, 2021')}"
      ]
     },
     "execution_count": 83,
     "metadata": {},
     "output_type": "execute_result"
    }
   ],
   "source": [
    "dict_max"
   ]
  },
  {
   "cell_type": "code",
   "execution_count": 86,
   "metadata": {},
   "outputs": [],
   "source": [
    "dict_min = {i:(np.min(df_anxiety[df_anxiety['Subgroup']==i]['Value']), \n",
    "                 df_anxiety[df_anxiety['Subgroup']==i].loc[df_anxiety[df_anxiety['Subgroup']==i]['Value'].idxmin(), 'Time Period Label']) \n",
    "                 for i in df_anxiety['Subgroup'].unique()}"
   ]
  },
  {
   "cell_type": "code",
   "execution_count": 87,
   "metadata": {},
   "outputs": [
    {
     "data": {
      "text/plain": [
       "{'United States': (17.0, 'Jan 9 - Feb 5, 2024'),\n",
       " '18 - 29 years': (28.3, 'May 28 - Jun 24, 2024'),\n",
       " '30 - 39 years': (21.2, 'Jan 9 - Feb 5, 2024'),\n",
       " '40 - 49 years': (17.5, 'Feb 6 - Mar 4, 2024'),\n",
       " '50 - 59 years': (13.5, 'Jun 25 - Jul 22, 2024'),\n",
       " '60 - 69 years': (9.9, 'Jun 25 - Jul 22, 2024'),\n",
       " '70 - 79 years': (5.7, 'Jan 9 - Feb 5, 2024'),\n",
       " '80 years and above': (4.6, 'Jul 23 - Aug 19, 2024'),\n",
       " 'Male': (14.3, 'Apr 2 - Apr 29, 2024'),\n",
       " 'Female': (19.2, 'Jan 9 - Feb 5, 2024'),\n",
       " 'Hispanic or Latino': (16.6, 'Jun 25 - Jul 22, 2024'),\n",
       " 'Non-Hispanic White, single race': (17.2, 'Jan 9 - Feb 5, 2024'),\n",
       " 'Non-Hispanic Black, single race': (13.6, 'Jan 9 - Feb 5, 2024'),\n",
       " 'Non-Hispanic Asian, single race': (9.1, 'Feb 6 - Mar 4, 2024'),\n",
       " 'Non-Hispanic, other races and multiple races': (21.1,\n",
       "  'Jul 23 - Aug 19, 2024'),\n",
       " 'Less than a high school diploma': (17.2, 'Jun 25 - Jul 22, 2024'),\n",
       " 'High school diploma or GED': (16.9, 'Jan 9 - Feb 5, 2024'),\n",
       " \"Some college/Associate's degree\": (19.5, 'May 28 - Jun 24, 2024'),\n",
       " \"Bachelor's degree or higher\": (13.0, 'Jan 9 - Feb 5, 2024'),\n",
       " 'Alabama': (16.2, 'Jan 9 - Feb 5, 2024'),\n",
       " 'Alaska': (16.5, 'Mar 5 - Apr 1, 2024'),\n",
       " 'Arizona': (15.2, 'Jun 25 - Jul 22, 2024'),\n",
       " 'Arkansas': (16.1, 'May 28 - Jun 24, 2024'),\n",
       " 'California': (14.9, 'Mar 5 - Apr 1, 2024'),\n",
       " 'Colorado': (16.9, 'Feb 6 - Mar 4, 2024'),\n",
       " 'Connecticut': (14.2, 'Mar 5 - Apr 1, 2024'),\n",
       " 'Delaware': (12.6, 'Feb 6 - Mar 4, 2024'),\n",
       " 'District of Columbia': (11.7, 'Jul 23 - Aug 19, 2024'),\n",
       " 'Florida': (14.7, 'Jul 23 - Aug 19, 2024'),\n",
       " 'Georgia': (16.9, 'Apr 2 - Apr 29, 2024'),\n",
       " 'Hawaii': (10.9, 'Apr 2 - Apr 29, 2024'),\n",
       " 'Idaho': (15.2, 'May 28 - Jun 24, 2024'),\n",
       " 'Illinois': (13.7, 'May 28 - Jun 24, 2024'),\n",
       " 'Indiana': (16.5, 'May 28 - Jun 24, 2024'),\n",
       " 'Iowa': (13.0, 'Aug 20 - Sep 16, 2024'),\n",
       " 'Kansas': (15.0, 'Jun 25 - Jul 22, 2024'),\n",
       " 'Kentucky': (17.9, 'Feb 6 - Mar 4, 2024'),\n",
       " 'Louisiana': (15.2, 'May 28 - Jun 24, 2024'),\n",
       " 'Maine': (15.1, 'Feb 6 - Mar 4, 2024'),\n",
       " 'Maryland': (13.1, 'May 28 - Jun 24, 2024'),\n",
       " 'Massachusetts': (16.0, 'Jan 9 - Feb 5, 2024'),\n",
       " 'Michigan': (15.7, 'Jan 9 - Feb 5, 2024'),\n",
       " 'Minnesota': (13.7, 'Mar 5 - Apr 1, 2024'),\n",
       " 'Mississippi': (18.8, 'Feb 6 - Mar 4, 2024'),\n",
       " 'Missouri': (15.7, 'May 28 - Jun 24, 2024'),\n",
       " 'Montana': (13.2, 'Jul 23 - Aug 19, 2024'),\n",
       " 'Nebraska': (15.1, 'Jul 23 - Aug 19, 2024'),\n",
       " 'Nevada': (12.1, 'Jul 23 - Aug 19, 2024'),\n",
       " 'New Hampshire': (13.2, 'Jan 9 - Feb 5, 2024'),\n",
       " 'New Jersey': (12.3, 'Jun 25 - Jul 22, 2024'),\n",
       " 'New Mexico': (16.5, 'May 28 - Jun 24, 2024'),\n",
       " 'New York': (13.2, 'Apr 2 - Apr 29, 2024'),\n",
       " 'North Carolina': (14.7, 'Apr 2 - Apr 29, 2024'),\n",
       " 'North Dakota': (14.2, 'Feb 6 - Mar 4, 2024'),\n",
       " 'Ohio': (14.7, 'May 28 - Jun 24, 2024'),\n",
       " 'Oklahoma': (18.9, 'Jan 9 - Feb 5, 2024'),\n",
       " 'Oregon': (18.8, 'Jun 25 - Jul 22, 2024'),\n",
       " 'Pennsylvania': (14.9, 'Jan 9 - Feb 5, 2024'),\n",
       " 'Rhode Island': (11.3, 'Mar 5 - Apr 1, 2024'),\n",
       " 'South Carolina': (14.6, 'May 28 - Jun 24, 2024'),\n",
       " 'South Dakota': (13.3, 'Apr 30 - May 27, 2024'),\n",
       " 'Tennessee': (16.1, 'Jan 9 - Feb 5, 2024'),\n",
       " 'Texas': (15.6, 'Jun 25 - Jul 22, 2024'),\n",
       " 'Utah': (17.3, 'Jun 25 - Jul 22, 2024'),\n",
       " 'Vermont': (12.5, 'Apr 30 - May 27, 2024'),\n",
       " 'Virginia': (15.2, 'Jan 9 - Feb 5, 2024'),\n",
       " 'Washington': (16.4, 'Aug 20 - Sep 16, 2024'),\n",
       " 'West Virginia': (14.7, 'Feb 6 - Mar 4, 2024'),\n",
       " 'Wisconsin': (13.1, 'Jul 23 - Aug 19, 2024'),\n",
       " 'Wyoming': (13.7, 'Jun 25 - Jul 22, 2024'),\n",
       " 'With disability': (39.5, 'Jun 25 - Jul 22, 2024'),\n",
       " 'Without disability': (13.5, 'Apr 2 - Apr 29, 2024'),\n",
       " 'Cis-gender male': (13.0, 'Apr 2 - Apr 29, 2024'),\n",
       " 'Cis-gender female': (18.5, 'Jan 9 - Feb 5, 2024'),\n",
       " 'Transgender': (44.6, 'Mar 5 - Apr 1, 2024'),\n",
       " 'Gay or lesbian': (24.8, 'Aug 20 - Sep 16, 2024'),\n",
       " 'Straight': (14.5, 'Jun 25 - Jul 22, 2024'),\n",
       " 'Bisexual': (34.4, 'Aug 20 - Sep 16, 2024')}"
      ]
     },
     "execution_count": 87,
     "metadata": {},
     "output_type": "execute_result"
    }
   ],
   "source": [
    "dict_min"
   ]
  }
 ],
 "metadata": {
  "kernelspec": {
   "display_name": "Python 3 (ipykernel)",
   "language": "python",
   "name": "python3"
  },
  "language_info": {
   "codemirror_mode": {
    "name": "ipython",
    "version": 3
   },
   "file_extension": ".py",
   "mimetype": "text/x-python",
   "name": "python",
   "nbconvert_exporter": "python",
   "pygments_lexer": "ipython3",
   "version": "3.9.21"
  }
 },
 "nbformat": 4,
 "nbformat_minor": 2
}
